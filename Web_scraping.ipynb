{
 "cells": [
  {
   "cell_type": "code",
   "execution_count": 23,
   "id": "b464523f",
   "metadata": {},
   "outputs": [],
   "source": [
    "import os\n",
    "import wget"
   ]
  },
  {
   "cell_type": "code",
   "execution_count": 24,
   "id": "bd9b59fb",
   "metadata": {},
   "outputs": [],
   "source": [
    "# Download Ort bestimmen\n",
    "os.chdir('C:/Users/kevin/Dropbox/Vorlesungen/Applied Data Science/Projekt/Daten')"
   ]
  },
  {
   "cell_type": "code",
   "execution_count": 25,
   "id": "07f0c352",
   "metadata": {},
   "outputs": [
    {
     "name": "stdout",
     "output_type": "stream",
     "text": [
      "100% [............................................................................] 100734 / 100734"
     ]
    }
   ],
   "source": [
    "# Webseite \"https://www.football-data.co.uk\" scrapen\n",
    "\n",
    "wget.download('https://www.football-data.co.uk/mmz4281/2122/E0.csv')\n",
    "wget.download('https://www.football-data.co.uk/mmz4281/2021/E0.csv')\n",
    "wget.download('https://www.football-data.co.uk/mmz4281/1920/E0.csv')\n",
    "wget.download('https://www.football-data.co.uk/mmz4281/1819/E0.csv')\n",
    "wget.download('https://www.football-data.co.uk/mmz4281/1718/E0.csv')\n",
    "\n",
    "# die Dateien umbenennen nach Jahr bzw. Seasons\n",
    "directory = \"C:/Users/kevin/Dropbox/Vorlesungen/Applied Data Science/Projekt/Daten/\"\n",
    "\n",
    "old_file_name_1 = directory + \"E0.csv\"\n",
    "old_file_name_2 = directory + \"E0 (1).csv\"\n",
    "old_file_name_3 = directory + \"E0 (2).csv\"\n",
    "old_file_name_4 = directory + \"E0 (3).csv\"\n",
    "old_file_name_5 = directory + \"E0 (4).csv\"\n",
    "\n",
    "new_file_name_21 = directory + \"2021-22.csv\"\n",
    "new_file_name_20 = directory + \"2020-21.csv\"\n",
    "new_file_name_19 = directory + \"2019-20.csv\"\n",
    "new_file_name_18 = directory + \"2018-19.csv\"\n",
    "new_file_name_17 = directory + \"2017-18.csv\"\n",
    "\n",
    "os.rename(old_file_name_1, new_file_name_21)\n",
    "os.rename(old_file_name_2, new_file_name_20)\n",
    "os.rename(old_file_name_3, new_file_name_19)\n",
    "os.rename(old_file_name_4, new_file_name_18)\n",
    "os.rename(old_file_name_5, new_file_name_17)\n"
   ]
  }
 ],
 "metadata": {
  "kernelspec": {
   "display_name": "Python 3",
   "language": "python",
   "name": "python3"
  },
  "language_info": {
   "codemirror_mode": {
    "name": "ipython",
    "version": 3
   },
   "file_extension": ".py",
   "mimetype": "text/x-python",
   "name": "python",
   "nbconvert_exporter": "python",
   "pygments_lexer": "ipython3",
   "version": "3.8.8"
  }
 },
 "nbformat": 4,
 "nbformat_minor": 5
}
