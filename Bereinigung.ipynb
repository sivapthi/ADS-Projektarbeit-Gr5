{
 "cells": [
  {
   "cell_type": "code",
   "execution_count": 19,
   "id": "8767f73e",
   "metadata": {},
   "outputs": [],
   "source": [
    "#Die notwendigen libraries importieren.\n",
    "\n",
    "import numpy as np\n",
    "import pandas as pd\n",
    "from datetime import datetime as dt"
   ]
  },
  {
   "cell_type": "code",
   "execution_count": 20,
   "id": "5db91efc",
   "metadata": {},
   "outputs": [],
   "source": [
    "# Die Daten von einer .CSV Datei in einer DF hinzufügen.\n",
    "\n",
    "loc = \"C:/Users/thine/Desktop/Football-Data-Analysis-and-Prediction-master/Datasets/\"\n",
    "\n",
    "data_1 = pd.read_csv(loc + '2017-18.csv')\n",
    "data_2 = pd.read_csv(loc + '2018-19.csv')\n",
    "data_3 = pd.read_csv(loc + '2019-20.csv')\n",
    "data_4 = pd.read_csv(loc + '2020-21.csv')\n",
    "data_5 = pd.read_csv(loc + '2021-22.csv')"
   ]
  },
  {
   "cell_type": "code",
   "execution_count": 21,
   "id": "f78971b9",
   "metadata": {},
   "outputs": [],
   "source": [
    "#Die Daten als Zeit gliedern. \n",
    "   \n",
    "def parse_date_other(date):\n",
    "    if date == '':\n",
    "        return None\n",
    "    else:\n",
    "        return dt.strptime(date, '%d/%m/%Y').date()\n",
    "    \n",
    "\n",
    "data_1.Date = data_1.Date.apply(parse_date_other)    \n",
    "data_2.Date = data_2.Date.apply(parse_date_other)    \n",
    "data_3.Date = data_3.Date.apply(parse_date_other)           \n",
    "data_4.Date = data_4.Date.apply(parse_date_other)    \n",
    "data_5.Date = data_5.Date.apply(parse_date_other)    \n",
    "\n",
    "\n",
    "#Die entsprechenden Statistiken zu den Spielen holen.\n",
    "                      \n",
    "columns_req = ['Date','HomeTeam','AwayTeam','FTHG','FTAG','FTR'] #FTR - Full Time Result\n",
    "\n",
    "statistics_1 = data_1[columns_req]                      \n",
    "statistics_2 = data_2[columns_req]\n",
    "statistics_3 = data_3[columns_req]\n",
    "statistics_4 = data_4[columns_req]\n",
    "statistics_5 = data_5[columns_req]"
   ]
  },
  {
   "cell_type": "code",
   "execution_count": 22,
   "id": "8355bac7",
   "metadata": {},
   "outputs": [],
   "source": [
    "# Die Goals nach Teams und Matchwoche aggregiert.\n",
    "\n",
    "def get_goals_scored(statistic):\n",
    "    \n",
    "    # Hierbei wird eine Dictionary erstelle, wobei die Teams als Keys gespeichert werden.\n",
    "    teams = {}\n",
    "    for i in statistic.groupby('HomeTeam').mean().T.columns:\n",
    "        teams[i] = []\n",
    "    \n",
    "    # Die Value der Keys sind die Ortschaften der Spiele.\n",
    "    for i in range(len(statistic)):\n",
    "        HTGS = statistic.iloc[i]['FTHG'] #FTHG - Full Time Home Goals\n",
    "        ATGS = statistic.iloc[i]['FTAG'] #FTAG - Full Time Away Goals\n",
    "        teams[statistic.iloc[i].HomeTeam].append(HTGS)\n",
    "        teams[statistic.iloc[i].AwayTeam].append(ATGS)\n",
    "    \n",
    "    # Eine dataframe erstellen, wobei die Zeilen \"Teams\" und die Spalten \"Matchwoche\" sind.\n",
    "    scoredGoals = pd.DataFrame(data=teams, index = [i for i in range(1,39)]).T\n",
    "    scoredGoals[0] = 0\n",
    "    \n",
    "    # Bis zu dem Zeitpunkt aggregieren.\n",
    "    for i in range(2,39):\n",
    "        scoredGoals[i] = scoredGoals[i] + scoredGoals[i-1]\n",
    "    return scoredGoals"
   ]
  },
  {
   "cell_type": "code",
   "execution_count": 24,
   "id": "69e7e340",
   "metadata": {},
   "outputs": [
    {
     "name": "stderr",
     "output_type": "stream",
     "text": [
      "<ipython-input-24-3b901e655d2c>:17: SettingWithCopyWarning: \n",
      "A value is trying to be set on a copy of a slice from a DataFrame.\n",
      "Try using .loc[row_indexer,col_indexer] = value instead\n",
      "\n",
      "See the caveats in the documentation: https://pandas.pydata.org/pandas-docs/stable/user_guide/indexing.html#returning-a-view-versus-a-copy\n",
      "  statistic['HTGS'] = HTGS #Home Team Goals Scored\n",
      "<ipython-input-24-3b901e655d2c>:18: SettingWithCopyWarning: \n",
      "A value is trying to be set on a copy of a slice from a DataFrame.\n",
      "Try using .loc[row_indexer,col_indexer] = value instead\n",
      "\n",
      "See the caveats in the documentation: https://pandas.pydata.org/pandas-docs/stable/user_guide/indexing.html#returning-a-view-versus-a-copy\n",
      "  statistic['ATGS'] = ATGS #Away Team Goals Scored\n"
     ]
    }
   ],
   "source": [
    "def get_gss(statistic):\n",
    "    GS = get_goals_scored(statistic)\n",
    "   \n",
    "    z = 0\n",
    "    HTGS = []\n",
    "    ATGS = []\n",
    "\n",
    "    for i in range(380):\n",
    "        HT = statistic.iloc[i].HomeTeam #\n",
    "        AT = statistic.iloc[i].AwayTeam\n",
    "        HTGS.append(GS.loc[HT][z])\n",
    "        ATGS.append(GS.loc[AT][z])\n",
    "        \n",
    "        if ((i + 1)% 10) == 0:\n",
    "            z = z + 1\n",
    "        \n",
    "    statistic['HTGS'] = HTGS #Home Team Goals Scored\n",
    "    statistic['ATGS'] = ATGS #Away Team Goals Scored\n",
    "\n",
    "    \n",
    "    return statistic\n",
    "\n",
    "\n",
    "# Für jede Datenset anwenden\n",
    "statistics_1 = get_gss(statistics_1)\n",
    "statistics_2 = get_gss(statistics_2)\n",
    "statistics_3 = get_gss(statistics_3)\n",
    "statistics_4 = get_gss(statistics_4)\n",
    "statistics_5 = get_gss(statistics_5)"
   ]
  },
  {
   "cell_type": "code",
   "execution_count": 26,
   "id": "84e972da",
   "metadata": {},
   "outputs": [],
   "source": [
    "# Die entsprechenden Punktzahlen holen.\n",
    "\n",
    "def get_points(result):\n",
    "    if result == 'W': #Win = Gewonnen\n",
    "        return 3\n",
    "    elif result == 'D': #Draw = Unentschieden\n",
    "        return 1\n",
    "    else:\n",
    "        return 0"
   ]
  },
  {
   "cell_type": "code",
   "execution_count": 27,
   "id": "c79cddce",
   "metadata": {},
   "outputs": [],
   "source": [
    "def get_cuml_points(matchresult):\n",
    "    matchresult_points = matchresult.applymap(get_points)\n",
    "    for i in range(2,39):\n",
    "        matchresult_points[i] = matchresult_points[i] + matchresult_points[i-1]\n",
    "        \n",
    "    matchresult_points.insert(column =0, loc = 0, value = [0*i for i in range(20)])\n",
    "    return matchresult_points"
   ]
  },
  {
   "cell_type": "code",
   "execution_count": 28,
   "id": "7b6ff588",
   "metadata": {},
   "outputs": [],
   "source": [
    "def get_matchresult(statistic):\n",
    "    \n",
    "    # Eine Dictionary wird erstellt mit den Teams als Keys.\n",
    "    teams = {}\n",
    "    for i in statistic.groupby('HomeTeam').mean().T.columns:\n",
    "        teams[i] = []\n",
    "\n",
    "    # Die Value der Keys ist eine Liste mit den Resultaten.\n",
    "    for i in range(len(statistic)):\n",
    "        if statistic.iloc[i].FTR == 'H':\n",
    "            teams[statistic.iloc[i].HomeTeam].append('W')\n",
    "            teams[statistic.iloc[i].AwayTeam].append('L')\n",
    "        elif statistic.iloc[i].FTR == 'A':\n",
    "            teams[statistic.iloc[i].AwayTeam].append('W')\n",
    "            teams[statistic.iloc[i].HomeTeam].append('L')\n",
    "        else:\n",
    "            teams[statistic.iloc[i].AwayTeam].append('D')\n",
    "            teams[statistic.iloc[i].HomeTeam].append('D')\n",
    "            \n",
    "    return pd.DataFrame(data=teams, index = [i for i in range(1,39)]).T"
   ]
  },
  {
   "cell_type": "code",
   "execution_count": 30,
   "id": "0010d7d5",
   "metadata": {},
   "outputs": [
    {
     "name": "stderr",
     "output_type": "stream",
     "text": [
      "<ipython-input-30-fc90cca55666>:16: SettingWithCopyWarning: \n",
      "A value is trying to be set on a copy of a slice from a DataFrame.\n",
      "Try using .loc[row_indexer,col_indexer] = value instead\n",
      "\n",
      "See the caveats in the documentation: https://pandas.pydata.org/pandas-docs/stable/user_guide/indexing.html#returning-a-view-versus-a-copy\n",
      "  statistic['HTP'] = HTP\n",
      "<ipython-input-30-fc90cca55666>:17: SettingWithCopyWarning: \n",
      "A value is trying to be set on a copy of a slice from a DataFrame.\n",
      "Try using .loc[row_indexer,col_indexer] = value instead\n",
      "\n",
      "See the caveats in the documentation: https://pandas.pydata.org/pandas-docs/stable/user_guide/indexing.html#returning-a-view-versus-a-copy\n",
      "  statistic['ATP'] = ATP\n"
     ]
    }
   ],
   "source": [
    "def get_aggregate_points(statistic):\n",
    "    matchresult = get_matchresult(statistic)\n",
    "    cum_pts = get_cuml_points(matchresult)\n",
    "    HTP = []\n",
    "    ATP = []\n",
    "    z = 0\n",
    "    for i in range(380):\n",
    "        HT = statistic.iloc[i].HomeTeam\n",
    "        AT = statistic.iloc[i].AwayTeam\n",
    "        HTP.append(cum_pts.loc[HT][z])\n",
    "        ATP.append(cum_pts.loc[AT][z])\n",
    "\n",
    "        if ((i + 1)% 10) == 0:\n",
    "            z = z + 1\n",
    "            \n",
    "    statistic['HTP'] = HTP\n",
    "    statistic['ATP'] = ATP\n",
    "    return statistic\n",
    "\n",
    "# Für jede Datenset anwenden\n",
    "statistics_1 = get_aggregate_points(statistics_1)\n",
    "statistics_2 = get_aggregate_points(statistics_2)\n",
    "statistics_3 = get_aggregate_points(statistics_3)\n",
    "statistics_4 = get_aggregate_points(statistics_4)\n",
    "statistics_5 = get_aggregate_points(statistics_5)"
   ]
  },
  {
   "cell_type": "code",
   "execution_count": 31,
   "id": "db04b3c5",
   "metadata": {},
   "outputs": [],
   "source": [
    "#Die Team form holen.\n",
    "\n",
    "def get_form(statistic,num):\n",
    "    form = get_matchresult(statistic)\n",
    "    form_final = form.copy()\n",
    "    for i in range(num,39):\n",
    "        form_final[i] = ''\n",
    "        z = 0\n",
    "        while z < num:\n",
    "            form_final[i] += form[i-z]\n",
    "            z += 1           \n",
    "    return form_final"
   ]
  },
  {
   "cell_type": "code",
   "execution_count": 33,
   "id": "f51f3a40",
   "metadata": {},
   "outputs": [],
   "source": [
    "def add_form(statistic,num):\n",
    "    form = get_form(statistic,num)\n",
    "    H = ['M' for i in range(num * 10)]  \n",
    "    A = ['M' for i in range(num * 10)]\n",
    "    \n",
    "    z = num\n",
    "    for i in range((num*10),380):\n",
    "        HT = statistic.iloc[i].HomeTeam\n",
    "        AT = statistic.iloc[i].AwayTeam\n",
    "        \n",
    "        past = form.loc[HT][z]               \n",
    "        H.append(past[num-1])                    \n",
    "        \n",
    "        past = form.loc[AT][z]               \n",
    "        A.append(past[num-1])                   \n",
    "        \n",
    "        if ((i + 1)% 10) == 0:\n",
    "            z = z + 1\n",
    "\n",
    "    statistic['HM' + str(num)] = H                 \n",
    "    statistic['AM' + str(num)] = A\n",
    "\n",
    "    \n",
    "    return statistic"
   ]
  },
  {
   "cell_type": "code",
   "execution_count": 34,
   "id": "965b943f",
   "metadata": {},
   "outputs": [
    {
     "name": "stderr",
     "output_type": "stream",
     "text": [
      "<ipython-input-33-4ff1b63182e4>:20: SettingWithCopyWarning: \n",
      "A value is trying to be set on a copy of a slice from a DataFrame.\n",
      "Try using .loc[row_indexer,col_indexer] = value instead\n",
      "\n",
      "See the caveats in the documentation: https://pandas.pydata.org/pandas-docs/stable/user_guide/indexing.html#returning-a-view-versus-a-copy\n",
      "  statistic['HM' + str(num)] = H\n",
      "<ipython-input-33-4ff1b63182e4>:21: SettingWithCopyWarning: \n",
      "A value is trying to be set on a copy of a slice from a DataFrame.\n",
      "Try using .loc[row_indexer,col_indexer] = value instead\n",
      "\n",
      "See the caveats in the documentation: https://pandas.pydata.org/pandas-docs/stable/user_guide/indexing.html#returning-a-view-versus-a-copy\n",
      "  statistic['AM' + str(num)] = A\n"
     ]
    }
   ],
   "source": [
    "def add_form_df(statistics):\n",
    "    statistics = add_form(statistics,1)\n",
    "    statistics = add_form(statistics,2)\n",
    "    statistics = add_form(statistics,3)\n",
    "    statistics = add_form(statistics,4)\n",
    "    statistics = add_form(statistics,5)\n",
    "    return statistics    \n",
    "    \n",
    "# Die Änderungen an die Datenframe anwenden\n",
    "statistics_1 = add_form_df(statistics_1)\n",
    "statistics_2 = add_form_df(statistics_2)\n",
    "statistics_3 = add_form_df(statistics_3)\n",
    "statistics_4 = add_form_df(statistics_4)\n",
    "statistics_5 = add_form_df(statistics_5)"
   ]
  },
  {
   "cell_type": "code",
   "execution_count": 35,
   "id": "97b5e14e",
   "metadata": {},
   "outputs": [],
   "source": [
    "#Die Spalten sortieren.\n",
    "\n",
    "cols = ['Date', 'HomeTeam', 'AwayTeam', 'FTHG', 'FTAG', 'FTR', 'HTGS', 'ATGS', 'HTP', 'ATP', 'HM1', 'HM2', 'HM3',\n",
    "        'HM4', 'HM5', 'AM1', 'AM2', 'AM3', 'AM4', 'AM5' ]\n",
    "\n",
    "statistics_1 = statistics_1[cols]\n",
    "statistics_2 = statistics_2[cols]\n",
    "statistics_3 = statistics_3[cols]\n",
    "statistics_4 = statistics_4[cols]\n",
    "statistics_5 = statistics_5[cols]"
   ]
  },
  {
   "cell_type": "code",
   "execution_count": 36,
   "id": "b9aeffec",
   "metadata": {},
   "outputs": [
    {
     "data": {
      "text/plain": [
       "Index(['Date', 'HomeTeam', 'AwayTeam', 'FTHG', 'FTAG', 'FTR', 'HTGS', 'ATGS',\n",
       "       'HTP', 'ATP', 'HM1', 'HM2', 'HM3', 'HM4', 'HM5', 'AM1', 'AM2', 'AM3',\n",
       "       'AM4', 'AM5', 'HTFormPtsStr', 'ATFormPtsStr', 'HTFormPts', 'ATFormPts'],\n",
       "      dtype='object')"
      ]
     },
     "execution_count": 36,
     "metadata": {},
     "output_type": "execute_result"
    }
   ],
   "source": [
    "#Finale Datenframe\n",
    "\n",
    "statistic = pd.concat([statistics_1,\n",
    "                       statistics_2,\n",
    "                       statistics_3,\n",
    "                       statistics_4,\n",
    "                       statistics_5],)\n",
    "\n",
    "\n",
    "# Die Form Punktzahlen holen.\n",
    "def get_form_points(string):\n",
    "    sum = 0\n",
    "    for letter in string:\n",
    "        sum += get_points(letter)\n",
    "    return sum\n",
    "\n",
    "statistic['HTFormPtsStr'] = statistic['HM1'] + statistic['HM2'] + statistic['HM3'] + statistic['HM4'] + statistic['HM5']\n",
    "statistic['ATFormPtsStr'] = statistic['AM1'] + statistic['AM2'] + statistic['AM3'] + statistic['AM4'] + statistic['AM5']\n",
    "\n",
    "statistic['HTFormPts'] = statistic['HTFormPtsStr'].apply(get_form_points)\n",
    "statistic['ATFormPts'] = statistic['ATFormPtsStr'].apply(get_form_points)\n",
    "\n",
    "statistic.keys()"
   ]
  },
  {
   "cell_type": "code",
   "execution_count": 37,
   "id": "8aeeaa78",
   "metadata": {},
   "outputs": [],
   "source": [
    "def homewin(string):\n",
    "    if string == 'H':\n",
    "        return 1\n",
    "    else:\n",
    "        return 0\n",
    "    \n",
    "statistic['FTR'] = statistic.FTR.apply(homewin)\n",
    "\n",
    "# Testing set (2019-20)\n",
    "statistic_test = statistic[5700:]\n",
    "\n",
    "#Die Finale Datenset sowie die Testset erstellen.\n",
    "statistic.to_csv(loc + \"final_dataset.csv\")\n",
    "statistic_test.to_csv(loc+\"test.csv\")"
   ]
  }
 ],
 "metadata": {
  "kernelspec": {
   "display_name": "Python 3",
   "language": "python",
   "name": "python3"
  },
  "language_info": {
   "codemirror_mode": {
    "name": "ipython",
    "version": 3
   },
   "file_extension": ".py",
   "mimetype": "text/x-python",
   "name": "python",
   "nbconvert_exporter": "python",
   "pygments_lexer": "ipython3",
   "version": "3.8.8"
  }
 },
 "nbformat": 4,
 "nbformat_minor": 5
}
